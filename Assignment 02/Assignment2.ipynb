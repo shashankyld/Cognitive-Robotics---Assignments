{
 "cells": [
  {
   "cell_type": "code",
   "execution_count": 1,
   "id": "d721cd89-c98a-434c-bcde-a6db7a24f27b",
   "metadata": {},
   "outputs": [],
   "source": [
    "import numpy as np\n",
    "import ex1"
   ]
  },
  {
   "cell_type": "code",
   "execution_count": 2,
   "id": "5eef5184-1be2-4f20-8cba-2a29c88f0fa5",
   "metadata": {},
   "outputs": [],
   "source": [
    "z1 = 1.0\n",
    "z2 = 4.0\n",
    "z3 = 7.0\n",
    "z4 = 10.0"
   ]
  },
  {
   "cell_type": "code",
   "execution_count": 3,
   "id": "26ac86bb-c89b-466f-a99b-3ccac3ab5814",
   "metadata": {},
   "outputs": [],
   "source": [
    "zA = 7.3\n",
    "zB = 10.1\n",
    "zC = 3.8\n",
    "zD = 1.2"
   ]
  },
  {
   "cell_type": "raw",
   "id": "2d4778f5-115a-44f6-ba85-18a278c57cd5",
   "metadata": {},
   "source": [
    "# Prior (a)\n",
    "p_x1 = 0.25\n",
    "p_x2 = 0.25\n",
    "p_x3 = 0.25\n",
    "p_x4 = 0.25"
   ]
  },
  {
   "cell_type": "code",
   "execution_count": 4,
   "id": "578617ee-d6a6-4364-91b1-5da42d5aead2",
   "metadata": {},
   "outputs": [],
   "source": [
    "# Prior (b)\n",
    "p_x1 = 1/6\n",
    "p_x2 = 1/3\n",
    "p_x3 = 1/3\n",
    "p_x4 = 1/6"
   ]
  },
  {
   "cell_type": "markdown",
   "id": "a0e14ae7-482a-49ef-a6e9-0964f4de7ec7",
   "metadata": {},
   "source": [
    "### Measurement A"
   ]
  },
  {
   "cell_type": "code",
   "execution_count": 5,
   "id": "d16ee073-e9a2-4713-82a8-bf4040d36dbd",
   "metadata": {},
   "outputs": [],
   "source": [
    "mean = (z1 - 0.1)\n",
    "sigma = (0.25 + 0.05*zA)\n",
    "p_x1_zA = ex1.gaussian_distribution(mean, sigma, zA) * p_x1"
   ]
  },
  {
   "cell_type": "code",
   "execution_count": 6,
   "id": "d9fb0240-121d-4202-b50d-de0a8fc103de",
   "metadata": {},
   "outputs": [],
   "source": [
    "mean = (z2 - 0.1)\n",
    "sigma = (0.25 + 0.05*zA)\n",
    "p_x2_zA = ex1.gaussian_distribution(mean, sigma, zA) * p_x2"
   ]
  },
  {
   "cell_type": "code",
   "execution_count": 7,
   "id": "843afa91-637f-4c51-9a37-c444159e8007",
   "metadata": {},
   "outputs": [],
   "source": [
    "mean = (z3 - 0.1)\n",
    "sigma = (0.25 + 0.05*zA)\n",
    "p_x3_zA = ex1.gaussian_distribution(mean, sigma, zA) * p_x3"
   ]
  },
  {
   "cell_type": "code",
   "execution_count": 8,
   "id": "e2efc306-ef87-4b32-8bf3-a8ed7a9fcab6",
   "metadata": {},
   "outputs": [],
   "source": [
    "mean = (z4 - 0.1)\n",
    "sigma = (0.25 + 0.05*zA)\n",
    "p_x4_zA = ex1.gaussian_distribution(mean, sigma, zA) * p_x4"
   ]
  },
  {
   "cell_type": "code",
   "execution_count": 9,
   "id": "7772958a-5ef7-4a9d-ab20-15cea2869b1a",
   "metadata": {},
   "outputs": [],
   "source": [
    "# Normalization\n",
    "p_x_zA = [p_x1_zA, p_x2_zA, p_x3_zA, p_x4_zA]\n",
    "p_x_zA_norm = ex1.softmax(p_x_zA)"
   ]
  },
  {
   "cell_type": "code",
   "execution_count": 10,
   "id": "117fc66f-3170-45d0-8298-fdf75c540cd2",
   "metadata": {},
   "outputs": [
    {
     "data": {
      "text/plain": [
       "[3.2949760710910247e-25,\n",
       " 4.989591369871983e-08,\n",
       " 0.17500650733785517,\n",
       " 1.4217391347576257e-05]"
      ]
     },
     "execution_count": 10,
     "metadata": {},
     "output_type": "execute_result"
    }
   ],
   "source": [
    "p_x_zA"
   ]
  },
  {
   "cell_type": "code",
   "execution_count": 11,
   "id": "1f245cbb-18aa-4beb-827e-d5a07f7a9545",
   "metadata": {},
   "outputs": [
    {
     "data": {
      "text/plain": [
       "array([0.23859127, 0.23859128, 0.28422279, 0.23859466])"
      ]
     },
     "execution_count": 11,
     "metadata": {},
     "output_type": "execute_result"
    }
   ],
   "source": [
    "p_x_zA_norm"
   ]
  },
  {
   "cell_type": "markdown",
   "id": "e9829a0a-8a1d-40f2-b89b-0c874d133e9d",
   "metadata": {},
   "source": [
    "### Measurement B"
   ]
  },
  {
   "cell_type": "code",
   "execution_count": 12,
   "id": "1999c6a2-5544-42c2-97a3-e1817aca5a07",
   "metadata": {},
   "outputs": [],
   "source": [
    "mean = (z1 - 0.1)\n",
    "sigma = (0.25 + 0.05*zB)\n",
    "p_x1_zB = ex1.gaussian_distribution(mean, sigma, zB) * p_x1"
   ]
  },
  {
   "cell_type": "code",
   "execution_count": 13,
   "id": "4055553c-6bc4-4eac-b668-ad6f206e639c",
   "metadata": {},
   "outputs": [],
   "source": [
    "mean = (z2 - 0.1)\n",
    "sigma = (0.25 + 0.05*zB)\n",
    "p_x2_zB = ex1.gaussian_distribution(mean, sigma, zB) * p_x2"
   ]
  },
  {
   "cell_type": "code",
   "execution_count": 14,
   "id": "03fa34d6-4d47-4873-83f1-ae5206aa91d2",
   "metadata": {},
   "outputs": [],
   "source": [
    "mean = (z3 - 0.1)\n",
    "sigma = (0.25 + 0.05*zB)\n",
    "p_x3_zB = ex1.gaussian_distribution(mean, sigma, zB) * p_x3"
   ]
  },
  {
   "cell_type": "code",
   "execution_count": 15,
   "id": "f2d90a25-c6b4-4507-b220-043dd0e44797",
   "metadata": {},
   "outputs": [],
   "source": [
    "mean = (z4 - 0.1)\n",
    "sigma = (0.25 + 0.05*zB)\n",
    "p_x4_zB = ex1.gaussian_distribution(mean, sigma, zB) * p_x4"
   ]
  },
  {
   "cell_type": "code",
   "execution_count": 16,
   "id": "4b54f5f7-ed7b-4413-975d-13da1a25b3e8",
   "metadata": {},
   "outputs": [],
   "source": [
    "# Normalization\n",
    "p_x_zB = [p_x1_zB, p_x2_zB, p_x3_zB, p_x4_zB]\n",
    "p_x_zB_norm = ex1.softmax(p_x_zB)"
   ]
  },
  {
   "cell_type": "code",
   "execution_count": 17,
   "id": "ed117429-a5e7-4ad5-90a6-5aac202f0306",
   "metadata": {},
   "outputs": [
    {
     "data": {
      "text/plain": [
       "[5.032288736265916e-34,\n",
       " 4.0029388421063697e-16,\n",
       " 2.213002039295563e-05,\n",
       " 0.08503038182417262]"
      ]
     },
     "execution_count": 17,
     "metadata": {},
     "output_type": "execute_result"
    }
   ],
   "source": [
    "p_x_zB"
   ]
  },
  {
   "cell_type": "code",
   "execution_count": 18,
   "id": "4025726f-c0a6-4969-8b7a-d11201258148",
   "metadata": {},
   "outputs": [
    {
     "data": {
      "text/plain": [
       "array([0.24457219, 0.24457219, 0.2445776 , 0.26627801])"
      ]
     },
     "execution_count": 18,
     "metadata": {},
     "output_type": "execute_result"
    }
   ],
   "source": [
    "p_x_zB_norm"
   ]
  },
  {
   "cell_type": "markdown",
   "id": "800c056c-2b37-48a5-8ea6-e631b82261d4",
   "metadata": {},
   "source": [
    "### Measurement C"
   ]
  },
  {
   "cell_type": "code",
   "execution_count": 19,
   "id": "1825ac64-8a0c-43bb-b955-911522bcca8d",
   "metadata": {},
   "outputs": [],
   "source": [
    "mean = (z1 - 0.1)\n",
    "sigma = (0.25 + 0.05*zC)\n",
    "p_x1_zC = ex1.gaussian_distribution(mean, sigma, zC) * p_x1"
   ]
  },
  {
   "cell_type": "code",
   "execution_count": 20,
   "id": "866efa70-73fe-4e47-ad8d-75c69ca726c7",
   "metadata": {},
   "outputs": [],
   "source": [
    "mean = (z2 - 0.1)\n",
    "sigma = (0.25 + 0.05*zC)\n",
    "p_x2_zC = ex1.gaussian_distribution(mean, sigma, zC) * p_x2"
   ]
  },
  {
   "cell_type": "code",
   "execution_count": 21,
   "id": "12272b6a-e56f-4d52-9716-301dd822ecd1",
   "metadata": {},
   "outputs": [],
   "source": [
    "mean = (z3 - 0.1)\n",
    "sigma = (0.25 + 0.05*zC)\n",
    "p_x3_zC = ex1.gaussian_distribution(mean, sigma, zC) * p_x3"
   ]
  },
  {
   "cell_type": "code",
   "execution_count": 22,
   "id": "e4a99b78-f07d-4ca4-94f3-40cdafdb8b5b",
   "metadata": {},
   "outputs": [],
   "source": [
    "mean = (z4 - 0.1)\n",
    "sigma = (0.25 + 0.05*zC)\n",
    "p_x4_zC = ex1.gaussian_distribution(mean, sigma, zC) * p_x4"
   ]
  },
  {
   "cell_type": "code",
   "execution_count": 23,
   "id": "561febc6-2a9d-4584-bc7e-843cc5b90897",
   "metadata": {},
   "outputs": [],
   "source": [
    "# Normalization\n",
    "p_x_zC = [p_x1_zC, p_x2_zC, p_x3_zC, p_x4_zC]\n",
    "p_x_zC_norm = ex1.softmax(p_x_zC)"
   ]
  },
  {
   "cell_type": "code",
   "execution_count": 24,
   "id": "3751b2fb-dcf2-4c14-aba4-2fece04f979e",
   "metadata": {},
   "outputs": [
    {
     "data": {
      "text/plain": [
       "[5.5771464140671095e-11,\n",
       " 0.2945234312951117,\n",
       " 5.029074494639433e-12,\n",
       " 2.7766215997891607e-43]"
      ]
     },
     "execution_count": 24,
     "metadata": {},
     "output_type": "execute_result"
    }
   ],
   "source": [
    "p_x_zC"
   ]
  },
  {
   "cell_type": "code",
   "execution_count": 25,
   "id": "10dae23a-65ba-450f-99df-5cbf468802db",
   "metadata": {},
   "outputs": [
    {
     "data": {
      "text/plain": [
       "array([0.23028282, 0.30915155, 0.23028282, 0.23028282])"
      ]
     },
     "execution_count": 25,
     "metadata": {},
     "output_type": "execute_result"
    }
   ],
   "source": [
    "p_x_zC_norm"
   ]
  },
  {
   "cell_type": "markdown",
   "id": "cf635dad-d7eb-4647-b38f-d4dd6ed84e45",
   "metadata": {},
   "source": [
    "### Measurement D"
   ]
  },
  {
   "cell_type": "code",
   "execution_count": 26,
   "id": "30172fb4-c3e1-4311-83c4-e3a63e6c1638",
   "metadata": {},
   "outputs": [],
   "source": [
    "mean = (z1 - 0.1)\n",
    "sigma = (0.25 + 0.05*zD)\n",
    "p_x1_zD = ex1.gaussian_distribution(mean, sigma, zD) * p_x1"
   ]
  },
  {
   "cell_type": "code",
   "execution_count": 27,
   "id": "e315352e-9999-48ab-942c-e077466f6e7c",
   "metadata": {},
   "outputs": [],
   "source": [
    "mean = (z2 - 0.1)\n",
    "sigma = (0.25 + 0.05*zD)\n",
    "p_x2_zD = ex1.gaussian_distribution(mean, sigma, zD) * p_x2"
   ]
  },
  {
   "cell_type": "code",
   "execution_count": 28,
   "id": "b7d9c2a7-403b-4be2-adfa-30eaa0c51c79",
   "metadata": {},
   "outputs": [],
   "source": [
    "mean = (z3 - 0.1)\n",
    "sigma = (0.25 + 0.05*zD)\n",
    "p_x3_zD = ex1.gaussian_distribution(mean, sigma, zD) * p_x3"
   ]
  },
  {
   "cell_type": "code",
   "execution_count": 29,
   "id": "6c5d87b8-685e-4d25-9652-681492b14814",
   "metadata": {},
   "outputs": [],
   "source": [
    "mean = (z4 - 0.1)\n",
    "sigma = (0.25 + 0.05*zD)\n",
    "p_x4_zD = ex1.gaussian_distribution(mean, sigma, zD) * p_x4"
   ]
  },
  {
   "cell_type": "code",
   "execution_count": 30,
   "id": "a95d39e6-b490-400f-9284-9f668314cfc2",
   "metadata": {},
   "outputs": [],
   "source": [
    "# Normalization\n",
    "p_x_zD = [p_x1_zD, p_x2_zD, p_x3_zD, p_x4_zD]\n",
    "p_x_zD_norm = ex1.softmax(p_x_zD)"
   ]
  },
  {
   "cell_type": "code",
   "execution_count": 31,
   "id": "d09c830b-bd56-4a4a-a118-cd46823cb341",
   "metadata": {},
   "outputs": [
    {
     "data": {
      "text/plain": [
       "[0.13428682953274373,\n",
       " 1.445331006998814e-17,\n",
       " 1.6524601036229115e-74,\n",
       " 2.0068938844382095e-172]"
      ]
     },
     "execution_count": 31,
     "metadata": {},
     "output_type": "execute_result"
    }
   ],
   "source": [
    "p_x_zD"
   ]
  },
  {
   "cell_type": "code",
   "execution_count": 32,
   "id": "daea4315-ef80-4682-86eb-4391e4779e83",
   "metadata": {},
   "outputs": [
    {
     "data": {
      "text/plain": [
       "array([0.276013, 0.241329, 0.241329, 0.241329])"
      ]
     },
     "execution_count": 32,
     "metadata": {},
     "output_type": "execute_result"
    }
   ],
   "source": [
    "p_x_zD_norm"
   ]
  },
  {
   "cell_type": "code",
   "execution_count": null,
   "id": "4241dc60-4c05-45d5-b002-d9280a918b81",
   "metadata": {},
   "outputs": [],
   "source": []
  },
  {
   "cell_type": "code",
   "execution_count": null,
   "id": "66cb788a-9297-42d9-9527-67ea8feed1dd",
   "metadata": {},
   "outputs": [],
   "source": []
  },
  {
   "cell_type": "code",
   "execution_count": null,
   "id": "d33cbfbf-39e6-491c-ad5d-d7729a041704",
   "metadata": {},
   "outputs": [],
   "source": []
  },
  {
   "cell_type": "code",
   "execution_count": null,
   "id": "24b2caf7-dedc-4592-b6e9-b2f7856f3623",
   "metadata": {},
   "outputs": [],
   "source": []
  },
  {
   "cell_type": "code",
   "execution_count": null,
   "id": "f62d71ec-a781-4b83-bd25-fd0b82f49434",
   "metadata": {},
   "outputs": [],
   "source": []
  },
  {
   "cell_type": "code",
   "execution_count": null,
   "id": "ebfa138c-565f-4cee-9aee-51927ae9f9c5",
   "metadata": {},
   "outputs": [],
   "source": []
  },
  {
   "cell_type": "code",
   "execution_count": null,
   "id": "e1ebd591-2718-4a04-a941-b29bfd8a8410",
   "metadata": {},
   "outputs": [],
   "source": []
  }
 ],
 "metadata": {
  "kernelspec": {
   "display_name": "Python 3 (ipykernel)",
   "language": "python",
   "name": "python3"
  },
  "language_info": {
   "codemirror_mode": {
    "name": "ipython",
    "version": 3
   },
   "file_extension": ".py",
   "mimetype": "text/x-python",
   "name": "python",
   "nbconvert_exporter": "python",
   "pygments_lexer": "ipython3",
   "version": "3.9.7"
  }
 },
 "nbformat": 4,
 "nbformat_minor": 5
}
