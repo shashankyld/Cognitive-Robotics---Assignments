{
 "cells": [
  {
   "cell_type": "code",
   "execution_count": 3,
   "metadata": {},
   "outputs": [
    {
     "name": "stdout",
     "output_type": "stream",
     "text": [
      "[[0 0 0]\n",
      " [0 0 1]\n",
      " [0 1 0]\n",
      " [0 1 1]\n",
      " [1 0 0]\n",
      " [1 0 1]\n",
      " [1 1 0]\n",
      " [1 1 1]]\n"
     ]
    }
   ],
   "source": [
    "# Testing sampling binary numbers\n",
    "\n",
    "import numpy as np\n",
    "# Make a list of first 8 binary digits with width 3\n",
    "binary_digits = np.array([list(map(int, list('{0:03b}'.format(i)))) for i in range(8)])\n",
    "print(binary_digits)"
   ]
  },
  {
   "cell_type": "code",
   "execution_count": 10,
   "metadata": {},
   "outputs": [
    {
     "data": {
      "image/png": "[encoded data removed]",
      "text/plain": [
       "<Figure size 640x480 with 1 Axes>"
      ]
     },
     "metadata": {},
     "output_type": "display_data"
    }
   ],
   "source": [
    "# List of poses contains - [x,y,theta] as an element\n",
    "# poses = np.array([[0,0,0],[1,0,0],[2,0,0],[3,0,0],[4,0,0],[5,0,0],[6,0,0],[7,0,0]]) LIKE THIS\n",
    "poses = np.array([[0,0,0],[1,0,0],[2,0,0],[3,0,0],[4,0,0],[5,0,0],[6,0,0],[7,0,0]])\n",
    "import matplotlib.pyplot as plt\n",
    "# Plot the poses with an arrow marker and a large hallow circle marker - transparent\n",
    "plt.figure()\n",
    "# Set x and y limits to -1 and 9\n",
    "plt.xlim(-1,9)\n",
    "plt.ylim(-1,9)\n",
    "# plt.plot(poses[:,0], poses[:,1], 'o', markerfacecolor='w', markersize=20)\n",
    "# transparent circle\n",
    "plt.plot(poses[:,0], poses[:,1], 'o',  markersize=20, markeredgecolor='r')\n",
    "plt.quiver(poses[:,0], poses[:,1], np.cos(poses[:,2]), np.sin(poses[:,2]), scale=5, color='r')\n",
    "plt.show()\n"
   ]
  },
  {
   "cell_type": "code",
   "execution_count": 6,
   "metadata": {},
   "outputs": [
    {
     "name": "stdout",
     "output_type": "stream",
     "text": [
      "[0. 0. 0. 0. 0. 0. 0. 0.]\n"
     ]
    }
   ],
   "source": [
    "# Generate a 3D plot of the poses - x, y, theta. But for the theta axis - calculate the average of the 8 poses and use it common for all the entries of the pose in visualization\n",
    "\n",
    "poses = np.array([[0,0,0],[1,0,0],[2,0,0],[3,0,0],[4,0,0],[5,0,0],[6,0,0],[7,0,0]])\n",
    "\n",
    "# Calculate the average of the 8 poses with out reducing the dimension of the array\n",
    "average_theta = np.mean(poses[:,2])* np.ones(8)\n",
    "print(average_theta)\n",
    "# Plot the poses with an arrow marker and a large hallow circle marker"
   ]
  },
  {
   "cell_type": "code",
   "execution_count": 11,
   "metadata": {},
   "outputs": [
    {
     "ename": "ValueError",
     "evalue": "a must be 1-dimensional",
     "output_type": "error",
     "traceback": [
      "\u001b[0;31m---------------------------------------------------------------------------\u001b[0m",
      "\u001b[0;31mValueError\u001b[0m                                Traceback (most recent call last)",
      "\u001b[1;32m/home/shashank/Documents/UniBonn/Sem3/Cognitive Robotics/Cognitive-Robotics---Assignments/Assignment3/assignment3_test_functions.ipynb Cell 4\u001b[0m line \u001b[0;36m3\n\u001b[1;32m      <a href='vscode-notebook-cell:/home/shashank/Documents/UniBonn/Sem3/Cognitive%20Robotics/Cognitive-Robotics---Assignments/Assignment3/assignment3_test_functions.ipynb#W3sZmlsZQ%3D%3D?line=0'>1</a>\u001b[0m \u001b[39m# Sample 3 poses from the poses array - each element of the array is a pose - [x,y,theta]\u001b[39;00m\n\u001b[0;32m----> <a href='vscode-notebook-cell:/home/shashank/Documents/UniBonn/Sem3/Cognitive%20Robotics/Cognitive-Robotics---Assignments/Assignment3/assignment3_test_functions.ipynb#W3sZmlsZQ%3D%3D?line=2'>3</a>\u001b[0m poses_sampled \u001b[39m=\u001b[39m np\u001b[39m.\u001b[39;49mrandom\u001b[39m.\u001b[39;49mchoice(poses, \u001b[39m3\u001b[39;49m, replace\u001b[39m=\u001b[39;49m\u001b[39mFalse\u001b[39;49;00m)\n",
      "File \u001b[0;32mmtrand.pyx:946\u001b[0m, in \u001b[0;36mnumpy.random.mtrand.RandomState.choice\u001b[0;34m()\u001b[0m\n",
      "\u001b[0;31mValueError\u001b[0m: a must be 1-dimensional"
     ]
    }
   ],
   "source": []
  }
 ],
 "metadata": {
  "kernelspec": {
   "display_name": "base",
   "language": "python",
   "name": "python3"
  },
  "language_info": {
   "codemirror_mode": {
    "name": "ipython",
    "version": 3
   },
   "file_extension": ".py",
   "mimetype": "text/x-python",
   "name": "python",
   "nbconvert_exporter": "python",
   "pygments_lexer": "ipython3",
   "version": "3.10.9"
  },
  "orig_nbformat": 4
 },
 "nbformat": 4,
 "nbformat_minor": 2
}
